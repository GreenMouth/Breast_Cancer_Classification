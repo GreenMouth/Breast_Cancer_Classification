{
 "cells": [
  {
   "cell_type": "markdown",
   "metadata": {},
   "source": [
    "Why Github?\n",
    "\n",
    " - Github is for 'Source Control'\n",
    "\n",
    " - Multiple people can work on same project code without having any conflict\n",
    " \n",
    "- Github helps handle conflicts / file changes by providing you detailed view of all the changes done by all team members for a given project\n",
    "\n",
    "** Note from previous experience: \n",
    " - Mostly in 1 huge project, each team member is working on 1 piece of the project\n",
    "\n",
    "Example: Any Machine Learning Product\n",
    "1. Person A: working on SQL\n",
    "2. Person B: working on feature Engineering\n",
    "3. Person C: Working on Modeling\n",
    "4. Person D: Working on Code Testing (exception handling / pressure testing)\n",
    "5. Person 5: Working on Deployment Code\n"
   ]
  },
  {
   "cell_type": "markdown",
   "metadata": {},
   "source": [
    "Step A: Creating a Repository on Github\n",
    "    \n",
    "    1. Go to https://github.com/ & create an Account\n",
    "    2. Go to Repositories (layman words: Projects)\n",
    "    3. Click on 'New'\n",
    "    4. Provide Repository Name: \"Breast_Cancer_Classification\"\n",
    "    5. Provide a Description for Repository: \n",
    "        \"Using single perceptron Neural Network to predict if a breast cancer is Malignant or Benign\"\n",
    "    6. Choose Public vs Private Repo (Choose who can commit)  \n",
    "    7. Check on box: \"Create a repository using Readme file\"\n",
    "    8. Create Repository\n",
    "    \n",
    "Step B: Clone this newly created repository on local using Terminal\n",
    "        (Run only 3 commands on Terminal/cmd: cd, ls & clone)\n",
    "        (clone is your first git command)\n",
    "    \n",
    "    1. Note: You already have 1 file in this repository called \"readme\"\n",
    "    4. Terminal Commands: (mac terminal runs Linux commands - Awesome!!)\n",
    "     a. cd : change directoy (cd Desktop will change dir to Desktop)\n",
    "     b. ls : list all documents available (in that dir)\n",
    "    2. on Terminal (Mac): run below command (URL is Repo URL from Github)\n",
    "    git clone https://github.com/GreenMouth/Breast_Cancer_Classification\n",
    "    3. Now you have this Repo on your local machine\n",
    "    \n",
    "Step C: Check if you have readme file in cloned repository\n",
    "    1. cd 'Repo Name' (change dir to cloned Repo)\n",
    "    2. ls (looking into cloned Repo now)\n",
    "\n",
    "Step D: Make changes in local repo now\n",
    "    1. Add python code (e.g. Algorithm.ipynb)\n",
    "    2. Add Training Data (e.g. .csv)\n",
    "    \n",
    "Step E: on Terminal:\n",
    "    1. git status \n",
    "    This will tell you difference in files on local vs cloud\n",
    "    (untracked files: in my case there are 3 files:\n",
    "    - Github_Training.ipynb\n",
    "\t- Single_Layer_Perceptron_NN.ipynb\n",
    "\t- breast_data.csv)\n",
    "    2. git add Single_Layer_Perceptron_NN.ipynb\n",
    "       git add Github_Training.ipynb\n",
    "       git add breast_data.csv\n",
    "       Above 3 \"git add\" commands will add all 3 untracked files on  github (cloud)\n",
    "       ** Now do git status:\n",
    "       This time both cloud vs local files will match \n",
    "       So, no untracked files\n",
    "       \n",
    "        "
   ]
  },
  {
   "cell_type": "code",
   "execution_count": null,
   "metadata": {},
   "outputs": [],
   "source": []
  }
 ],
 "metadata": {
  "kernelspec": {
   "display_name": "Python 3",
   "language": "python",
   "name": "python3"
  },
  "language_info": {
   "codemirror_mode": {
    "name": "ipython",
    "version": 3
   },
   "file_extension": ".py",
   "mimetype": "text/x-python",
   "name": "python",
   "nbconvert_exporter": "python",
   "pygments_lexer": "ipython3",
   "version": "3.7.3"
  }
 },
 "nbformat": 4,
 "nbformat_minor": 2
}
